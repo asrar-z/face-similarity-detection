{
  "nbformat": 4,
  "nbformat_minor": 5,
  "metadata": {
    "kernelspec": {
      "display_name": "Python 3",
      "language": "python",
      "name": "python3"
    },
    "language_info": {
      "codemirror_mode": {
        "name": "ipython",
        "version": 3
      },
      "file_extension": ".py",
      "mimetype": "text/x-python",
      "name": "python",
      "nbconvert_exporter": "python",
      "pygments_lexer": "ipython3",
      "version": "3.6.13"
    },
    "colab": {
      "name": "1_resnet50.ipynb",
      "provenance": []
    }
  },
  "cells": [
    {
      "cell_type": "code",
      "metadata": {
        "scrolled": true,
        "tags": [],
        "id": "4624da72"
      },
      "source": [
        "################################################################\n",
        "# optional installs\n",
        "\n",
        "#!pip install tensorflow==1.14.0 --ignore-installed\n",
        "#!pip install keras==2.2.4\n",
        "#!pip install opencv-python\n",
        "#!pip install pandas\n",
        "#!pip install tqdm\n",
        "################################################################"
      ],
      "id": "4624da72",
      "execution_count": null,
      "outputs": []
    },
    {
      "cell_type": "code",
      "metadata": {
        "id": "JqFgh16yp0Am"
      },
      "source": [
        "%tensorflow_version 1.x"
      ],
      "id": "JqFgh16yp0Am",
      "execution_count": null,
      "outputs": []
    },
    {
      "cell_type": "code",
      "metadata": {
        "id": "7ggKYSa0qcva"
      },
      "source": [
        "!pip install git+https://github.com/rcmalli/keras-vggface.git\n",
        "!pip install keras_applications"
      ],
      "id": "7ggKYSa0qcva",
      "execution_count": null,
      "outputs": []
    },
    {
      "cell_type": "code",
      "metadata": {
        "id": "30c8ec61"
      },
      "source": [
        "################################################################\n",
        "# optional\n",
        "\n",
        "import warnings\n",
        "\n",
        "from IPython.core.interactiveshell import InteractiveShell\n",
        "\n",
        "warnings.filterwarnings('ignore')\n",
        "InteractiveShell.ast_node_interactivity = \"all\"\n",
        "################################################################"
      ],
      "id": "30c8ec61",
      "execution_count": null,
      "outputs": []
    },
    {
      "cell_type": "code",
      "metadata": {
        "id": "d635f304"
      },
      "source": [
        "################################################################\n",
        "# imports\n",
        "import os\n",
        "from os.path import exists\n",
        "\n",
        "\n",
        "import numpy as nump\n",
        "import pandas as pd\n",
        "from collections import defaultdict\n",
        "from glob import glob\n",
        "import h5py\n",
        "from random import choice, sample\n",
        "import cv2\n",
        "from tqdm import tqdm\n",
        "import pickle\n",
        "\n",
        "from keras.callbacks import ModelCheckpoint, ReduceLROnPlateau\n",
        "from keras.layers import Input, Dense, GlobalMaxPool2D, GlobalAvgPool2D, Concatenate, Multiply, Dropout, Subtract, \\\n",
        "    Reshape, Flatten, Lambda\n",
        "from keras.models import Model\n",
        "from keras.optimizers import Adam\n",
        "from keras_vggface.utils import preprocess_input\n",
        "from keras_vggface.vggface import VGGFace\n",
        "from keras import backend as K\n",
        "from keras.models import load_model\n",
        "from keras import regularizers\n",
        "from keras.layers import BatchNormalization\n",
        "\n",
        "import matplotlib.pyplot as plt\n",
        "\n",
        "################################################################"
      ],
      "id": "d635f304",
      "execution_count": null,
      "outputs": []
    },
    {
      "cell_type": "code",
      "metadata": {
        "id": "4afbd7c0",
        "outputId": "dca79c7b-d21c-4396-eecd-520e262bb7f7"
      },
      "source": [
        "################################################################\n",
        "# Fetch all images, and split into training and validation images\n",
        "\n",
        "training_dataset = 'Documents/AI/train/'\n",
        "validation_dataset = 'F08'\n",
        "dataset = glob(training_dataset + '*/*/*.jpg')\n",
        "dataset = [img.replace(\"\\\\\", \"/\") for img in dataset]\n",
        "training_images = [img for img in dataset if validation_dataset not in img]\n",
        "validation_images = [img for img in dataset if validation_dataset in img]\n",
        "\n",
        "print(\"Dataset Found\") if exists(training_dataset) else print(\"Dataset Not Found. Please check path\")\n",
        "\n",
        "print(\"Total images\", len(dataset))\n",
        "print(\"Number of training images\", len(training_images))\n",
        "print(\"Number of validation images\", len(validation_images))\n",
        "################################################################"
      ],
      "id": "4afbd7c0",
      "execution_count": null,
      "outputs": [
        {
          "name": "stdout",
          "output_type": "stream",
          "text": [
            "Dataset Found\n",
            "Total images 12379\n",
            "Number of training images 11051\n",
            "Number of validation images 1328\n"
          ]
        }
      ]
    },
    {
      "cell_type": "code",
      "metadata": {
        "id": "a7d5f86c-6906-41a6-8f83-2b189f8c40c6",
        "outputId": "851ef0a9-bcc7-42d1-a272-ebf1670186a3"
      },
      "source": [
        "################################################################\n",
        "# Extracting people from images\n",
        "training_people = defaultdict(list)\n",
        "for img in training_images:\n",
        "    training_people[img.split('/')[-3] + '/' + img.split('/')[-2]].append(img)\n",
        "\n",
        "validation_people = defaultdict(list)\n",
        "for img in validation_images:\n",
        "    validation_people[img.split('/')[-3] + '/' + img.split('/')[-2]].append(img)\n",
        "\n",
        "print(\"Total people in training dataset\", len(training_people))\n",
        "print(\"Total people in training dataset\", len(validation_people))\n",
        "################################################################"
      ],
      "id": "a7d5f86c-6906-41a6-8f83-2b189f8c40c6",
      "execution_count": null,
      "outputs": [
        {
          "name": "stdout",
          "output_type": "stream",
          "text": [
            "Total people in training dataset 2051\n",
            "Total people in training dataset 265\n"
          ]
        }
      ]
    },
    {
      "cell_type": "code",
      "metadata": {
        "scrolled": true,
        "id": "926375a9",
        "outputId": "5a4b51cf-61b3-4acd-b0f3-360c3f3ea6ec"
      },
      "source": [
        "################################################################\n",
        "# Reading the csv and forming relationships\n",
        "train_pair = 'Documents/AI/train_relationships.csv'\n",
        "print(\"CSV Found\") if exists(train_pair) else print(\"CSV Not Found Please check path\")\n",
        "csv = pd.read_csv(train_pair)\n",
        "csv = list(zip(csv.p1.values, csv.p2.values))\n",
        "updatedDataset = [img.split('/')[-3] + '/' + img.split('/')[-2] for img in dataset]\n",
        "csv = [row for row in csv if row[0] in updatedDataset and row[1] in updatedDataset]\n",
        "################################################################"
      ],
      "id": "926375a9",
      "execution_count": null,
      "outputs": [
        {
          "name": "stdout",
          "output_type": "stream",
          "text": [
            "CSV Found\n"
          ]
        }
      ]
    },
    {
      "cell_type": "code",
      "metadata": {
        "id": "0d813403",
        "outputId": "1f44621a-76b2-4ba5-f699-ba63b4cef73f"
      },
      "source": [
        "################################################################\n",
        "training = [row for row in csv if validation_dataset not in row[0]]\n",
        "print(len(training))\n",
        "validation = [row for row in csv if validation_dataset in row[0]]\n",
        "print(len(validation))\n",
        "\n",
        "################################################################"
      ],
      "id": "0d813403",
      "execution_count": null,
      "outputs": [
        {
          "name": "stdout",
          "output_type": "stream",
          "text": [
            "2988\n",
            "374\n"
          ]
        }
      ]
    },
    {
      "cell_type": "code",
      "metadata": {
        "id": "8971dd1a"
      },
      "source": [
        "################################################################\n",
        "# Function to read image\n",
        "def get_img(path):\n",
        "    image = cv2.imread(path)\n",
        "    image = nump.array(image).astype(nump.float)\n",
        "    return preprocess_input(image, version=2)\n",
        "\n",
        "\n",
        "################################################################"
      ],
      "id": "8971dd1a",
      "execution_count": null,
      "outputs": []
    },
    {
      "cell_type": "code",
      "metadata": {
        "id": "d40edef7"
      },
      "source": [
        "################################################################\n",
        "# Generator\n",
        "def gen(tuples, people, batch_size=16):\n",
        "    people_list = list(people.keys())\n",
        "\n",
        "    while True:\n",
        "        batch = sample(tuples, batch_size // 2)\n",
        "        labels = [1] * len(batch)\n",
        "        while len(batch) < batch_size:\n",
        "            person1 = choice(people_list)\n",
        "            person2 = choice(people_list)\n",
        "\n",
        "            if person1 != person2 and (person1, person2) not in tuples and (person2, person1) not in tuples:\n",
        "                batch.append((person1, person2))\n",
        "                labels.append(0)\n",
        "        yield from gen_util(batch, labels, people)\n",
        "\n",
        "\n",
        "################################################################"
      ],
      "id": "d40edef7",
      "execution_count": null,
      "outputs": []
    },
    {
      "cell_type": "code",
      "metadata": {
        "id": "729bd10e"
      },
      "source": [
        "################################################################\n",
        "def gen_util(batch, labels, people):\n",
        "    for x in batch:\n",
        "        if not len(people[x[0]]):\n",
        "            print(x[0])\n",
        "    X1 = [choice(people[x[0]]) for x in batch]\n",
        "    X1 = nump.array([get_img(x) for x in X1])\n",
        "    X2 = [choice(people[x[1]]) for x in batch]\n",
        "    X2 = nump.array([get_img(x) for x in X2])\n",
        "    yield [X1, X2], labels\n",
        "\n",
        "\n",
        "################################################################"
      ],
      "id": "729bd10e",
      "execution_count": null,
      "outputs": []
    },
    {
      "cell_type": "code",
      "metadata": {
        "id": "a0ef8c0b"
      },
      "source": [
        "################################################################\n",
        "\n",
        "# Model architecture\n",
        "def get_model2():\n",
        "    input1 = Input(shape=(224, 224, 3))\n",
        "    input2 = Input(shape=(224, 224, 3))\n",
        "\n",
        "    base_mdl = VGGFace(model='resnet50', include_top=False)\n",
        "\n",
        "    x = layers(base_mdl, input1, input2)\n",
        "    out = Dense(1, activation='sigmoid')(x)\n",
        "    mdl = Model([input1, input2], out)\n",
        "    mdl.compile(loss='binary_crossentropy', metrics=['acc'], optimizer=Adam(0.00001))\n",
        "    mdl.summary()\n",
        "\n",
        "    return mdl\n",
        "\n",
        "\n",
        "################################################################"
      ],
      "id": "a0ef8c0b",
      "execution_count": null,
      "outputs": []
    },
    {
      "cell_type": "code",
      "metadata": {
        "id": "b256809e"
      },
      "source": [
        "################################################################\n",
        "# Layers for the model\n",
        "def layers2(base_mdl, input1, input2):\n",
        "    x1 = base_mdl(input1)\n",
        "    x2 = base_mdl(input2)\n",
        "    x1 = Concatenate(axis=-1)([GlobalMaxPool2D()(x1), GlobalAvgPool2D()(x1)])\n",
        "    x2 = Concatenate(axis=-1)([GlobalMaxPool2D()(x2), GlobalAvgPool2D()(x2)])\n",
        "    x3 = Subtract()([x1, x2])\n",
        "    x3 = Multiply()([x3, x3])\n",
        "    x1_ = Multiply()([x1, x1])\n",
        "    x2_ = Multiply()([x2, x2])\n",
        "    x4 = Subtract()([x1_, x2_])\n",
        "    x5 = Multiply()([x1, x2])\n",
        "    last = Concatenate(axis=-1)([x3, x4, x5])\n",
        "    last = Dense(100, activation='relu')(last)\n",
        "    last = Dropout(0.01)(last)\n",
        "    return last\n",
        "\n",
        "\n",
        "################################################################"
      ],
      "id": "b256809e",
      "execution_count": null,
      "outputs": []
    },
    {
      "cell_type": "code",
      "metadata": {
        "id": "1c8a3263-6abe-4e2c-b767-0a035fe58784"
      },
      "source": [
        "################################################################\n",
        "# Model architecture 2\n",
        "def get_model_3():\n",
        "    input_1 = Input(shape=(224, 224, 3))\n",
        "    input_2 = Input(shape=(224, 224, 3))\n",
        "\n",
        "    base_mdl = VGGFace(model='resnet50', include_top=False)\n",
        "\n",
        "    x = layers2(base_mdl, input_1, input_2)\n",
        "    out = Dense(1, activation=\"sigmoid\")(x)\n",
        "    mdl = Model([input_1, input_2], out)\n",
        "    mdl.compile(loss='binary_crossentropy', metrics=['acc'], optimizer=Adam(0.00001))\n",
        "    mdl.summary()\n",
        "\n",
        "    return mdl\n",
        "\n",
        "\n",
        "################################################################"
      ],
      "id": "1c8a3263-6abe-4e2c-b767-0a035fe58784",
      "execution_count": null,
      "outputs": []
    },
    {
      "cell_type": "code",
      "metadata": {
        "id": "5a5b3826-33a0-4ebf-b58c-22f4a2b916ca"
      },
      "source": [
        "################################################################\n",
        "# Layers for the model 2\n",
        "def layers3(base_mdl, input_1, input_2):\n",
        "    x1 = base_mdl(input_1)\n",
        "    x2 = base_mdl(input_2)\n",
        "    x1 = Concatenate(axis=-1)([GlobalMaxPool2D()(x1), GlobalAvgPool2D()(x1)])\n",
        "    x2 = Concatenate(axis=-1)([GlobalMaxPool2D()(x2), GlobalAvgPool2D()(x2)])\n",
        "    x3 = Subtract()([x1, x2])\n",
        "    x3 = Multiply()([x3, x3])\n",
        "    x1_ = Multiply()([x1, x1])\n",
        "    x2_ = Multiply()([x2, x2])\n",
        "    x4 = Subtract()([x1_, x2_])\n",
        "    x5 = Multiply()([x1, x2])\n",
        "    last = Concatenate(axis=-1)([x3, x4, x5])\n",
        "    last = Dense(256, activation=\"relu\", kernel_regularizer=regularizers.l2(0.01))(last)\n",
        "    last = BatchNormalization()(last)\n",
        "    last = Dense(256, activation=\"relu\", kernel_regularizer=regularizers.l2(0.01))(last)\n",
        "    last = Dropout(0.01)(last)\n",
        "    last = Dense(128, activation=\"relu\", kernel_regularizer=regularizers.l2(0.01))(last)\n",
        "    last = BatchNormalization()(last)\n",
        "    last = Dense(128, activation=\"relu\", kernel_regularizer=regularizers.l2(0.01))(last)\n",
        "    last = Dropout(0.01)(last)\n",
        "    last = Dense(100, activation=\"relu\", kernel_regularizer=regularizers.l2(0.01))(last)\n",
        "    return last\n",
        "\n",
        "\n",
        "################################################################"
      ],
      "id": "5a5b3826-33a0-4ebf-b58c-22f4a2b916ca",
      "execution_count": null,
      "outputs": []
    },
    {
      "cell_type": "code",
      "metadata": {
        "id": "e5dd1142-f494-42a3-bb0c-c4105660c1ae"
      },
      "source": [
        "################################################################\n",
        "def get_model():\n",
        "    input_1 = Input(shape=(224, 224, 3))\n",
        "    input_2 = Input(shape=(224, 224, 3))\n",
        "\n",
        "    base_model = VGGFace(model='resnet50', include_top=False)\n",
        "\n",
        "    for x in base_model.layers:\n",
        "        x.trainable = False\n",
        "\n",
        "    x = layers3(base_model, input_1, input_2)\n",
        "    out = Dense(1, activation='sigmoid')(x)\n",
        "    mdl = Model([input_1, input_2], out)\n",
        "    mdl.compile(loss='binary_crossentropy', metrics=['acc'], optimizer=Adam(0.00001))\n",
        "    mdl.summary()\n",
        "\n",
        "    return mdl\n",
        "\n",
        "\n",
        "################################################################"
      ],
      "id": "e5dd1142-f494-42a3-bb0c-c4105660c1ae",
      "execution_count": null,
      "outputs": []
    },
    {
      "cell_type": "code",
      "metadata": {
        "id": "d56a1a2a-db7a-46e3-ab57-1867e96124f7"
      },
      "source": [
        "################################################################\n",
        "def layers(base_model, input_1, input_2):\n",
        "    x1 = base_model(input_1)\n",
        "    x2 = base_model(input_2)\n",
        "    x = Concatenate()([x1, x2])\n",
        "    x = Flatten()(x)\n",
        "    x = Dense(512, activation=\"relu\", kernel_regularizer=regularizers.l2(0.01))(x)\n",
        "    x = Dropout(0.5)(x)\n",
        "    x = Dense(128, activation=\"relu\", kernel_regularizer=regularizers.l2(0.01))(x)\n",
        "    x = Dropout(0.4)(x)\n",
        "    x = Dense(100, activation='relu')(x)\n",
        "    x = Dropout(0.01)(x)\n",
        "    return x\n",
        "\n",
        "\n",
        "################################################################"
      ],
      "id": "d56a1a2a-db7a-46e3-ab57-1867e96124f7",
      "execution_count": null,
      "outputs": []
    },
    {
      "cell_type": "code",
      "metadata": {
        "colab": {
          "base_uri": "https://localhost:8080/"
        },
        "id": "d881c6ab-d436-4d51-85fe-8f3387df50e1",
        "outputId": "8887492e-1097-4175-9ca6-32886b2bffc8"
      },
      "source": [
        "################################################################\n",
        "# start\n",
        "path_split = '/'\n",
        "if os.name == 'nt':\n",
        "    path_split = '\\\\'\n",
        "\n",
        "model_name = 'vgg_face_simple.h5'\n",
        "\n",
        "pkl_name = 'network.pkl'\n",
        "\n",
        "save_path = f'Documents{path_split}AI{path_split}{model_name}'\n",
        "\n",
        "best_model = ModelCheckpoint(save_path, monitor='val_acc', verbose=1, save_best_only=True, mode='max')\n",
        "lr_reducer = ReduceLROnPlateau(monitor='val_acc', mode='max', factor=0.1, patience=20, verbose=1)\n",
        "checkpoints = [best_model, lr_reducer]\n",
        "\n",
        "model = get_model()\n",
        "network = model.fit_generator(gen(training, training_people, batch_size=16),\n",
        "                              validation_data=gen(validation, validation_people, batch_size=16),\n",
        "                              epochs=50, verbose=1, workers=1, callbacks=checkpoints, steps_per_epoch=100,\n",
        "                              validation_steps=100)\n",
        "# model = get_model_2()\n",
        "# network = model2.fit_generator(gen(training, training_people, batch_size=16),\n",
        "#                                                   validation_data=gen(validation, validation_people, batch_size=16),\n",
        "#                                                   epochs=50, verbose=1, workers=1, callbacks=checkpoints,\n",
        "#                                                   steps_per_epoch=100,\n",
        "#                                                   validation_steps=100)\n",
        "\n",
        "# model = get_model_3()\n",
        "# network = model2.fit_generator(gen(training, training_people, batch_size=16),\n",
        "#                                                   validation_data=gen(validation, validation_people, batch_size=16),\n",
        "#                                                   epochs=100, verbose=1, workers=1, callbacks=checkpoints,\n",
        "#                                                   steps_per_epoch=100,\n",
        "#                                                   validation_steps=100)\n",
        "################################################################"
      ],
      "id": "d881c6ab-d436-4d51-85fe-8f3387df50e1",
      "execution_count": null,
      "outputs": [
        {
          "name": "stdout",
          "output_type": "stream",
          "text": [
            "WARNING:tensorflow:From /tensorflow-1.15.2/python3.7/tensorflow_core/python/ops/resource_variable_ops.py:1630: calling BaseResourceVariable.__init__ (from tensorflow.python.ops.resource_variable_ops) with constraint is deprecated and will be removed in a future version.\n",
            "Instructions for updating:\n",
            "If using Keras pass *_constraint arguments to layers.\n",
            "WARNING:tensorflow:From /tensorflow-1.15.2/python3.7/keras/backend/tensorflow_backend.py:4070: The name tf.nn.max_pool is deprecated. Please use tf.nn.max_pool2d instead.\n",
            "\n",
            "WARNING:tensorflow:From /tensorflow-1.15.2/python3.7/keras/backend/tensorflow_backend.py:4074: The name tf.nn.avg_pool is deprecated. Please use tf.nn.avg_pool2d instead.\n",
            "\n",
            "WARNING:tensorflow:From /tensorflow-1.15.2/python3.7/tensorflow_core/python/ops/nn_impl.py:183: where (from tensorflow.python.ops.array_ops) is deprecated and will be removed in a future version.\n",
            "Instructions for updating:\n",
            "Use tf.where in 2.0, which has the same broadcast rule as np.where\n",
            "Model: \"model_1\"\n",
            "__________________________________________________________________________________________________\n",
            "Layer (type)                    Output Shape         Param #     Connected to                     \n",
            "==================================================================================================\n",
            "input_1 (InputLayer)            (None, 224, 224, 3)  0                                            \n",
            "__________________________________________________________________________________________________\n",
            "input_2 (InputLayer)            (None, 224, 224, 3)  0                                            \n",
            "__________________________________________________________________________________________________\n",
            "vggface_resnet50 (Model)        multiple             23561152    input_1[0][0]                    \n",
            "                                                                 input_2[0][0]                    \n",
            "__________________________________________________________________________________________________\n",
            "concatenate_1 (Concatenate)     (None, 1, 1, 4096)   0           vggface_resnet50[1][0]           \n",
            "                                                                 vggface_resnet50[2][0]           \n",
            "__________________________________________________________________________________________________\n",
            "flatten_1 (Flatten)             (None, 4096)         0           concatenate_1[0][0]              \n",
            "__________________________________________________________________________________________________\n",
            "dense_1 (Dense)                 (None, 512)          2097664     flatten_1[0][0]                  \n",
            "__________________________________________________________________________________________________\n",
            "dropout_1 (Dropout)             (None, 512)          0           dense_1[0][0]                    \n",
            "__________________________________________________________________________________________________\n",
            "dense_2 (Dense)                 (None, 128)          65664       dropout_1[0][0]                  \n",
            "__________________________________________________________________________________________________\n",
            "dropout_2 (Dropout)             (None, 128)          0           dense_2[0][0]                    \n",
            "__________________________________________________________________________________________________\n",
            "dense_3 (Dense)                 (None, 100)          12900       dropout_2[0][0]                  \n",
            "__________________________________________________________________________________________________\n",
            "dropout_3 (Dropout)             (None, 100)          0           dense_3[0][0]                    \n",
            "__________________________________________________________________________________________________\n",
            "dense_4 (Dense)                 (None, 1)            101         dropout_3[0][0]                  \n",
            "==================================================================================================\n",
            "Total params: 25,737,481\n",
            "Trainable params: 2,176,329\n",
            "Non-trainable params: 23,561,152\n",
            "__________________________________________________________________________________________________\n",
            "WARNING:tensorflow:From /tensorflow-1.15.2/python3.7/keras/backend/tensorflow_backend.py:422: The name tf.global_variables is deprecated. Please use tf.compat.v1.global_variables instead.\n",
            "\n",
            "Epoch 1/50\n",
            " - 136s - loss: 12.1071 - acc: 0.5094 - val_loss: 11.6244 - val_acc: 0.5625\n",
            "\n",
            "Epoch 00001: val_acc improved from -inf to 0.56250, saving model to vgg_face_simple.h5\n",
            "Epoch 2/50\n",
            " - 127s - loss: 11.7809 - acc: 0.5375 - val_loss: 11.5506 - val_acc: 0.5644\n",
            "\n",
            "Epoch 00002: val_acc improved from 0.56250 to 0.56437, saving model to vgg_face_simple.h5\n",
            "Epoch 3/50\n",
            " - 127s - loss: 11.5732 - acc: 0.5452 - val_loss: 11.3342 - val_acc: 0.5969\n",
            "\n",
            "Epoch 00003: val_acc improved from 0.56437 to 0.59688, saving model to vgg_face_simple.h5\n",
            "Epoch 4/50\n",
            " - 127s - loss: 11.3603 - acc: 0.5572 - val_loss: 11.2808 - val_acc: 0.5869\n",
            "\n",
            "Epoch 00004: val_acc did not improve from 0.59688\n",
            "Epoch 5/50\n",
            " - 127s - loss: 11.1655 - acc: 0.5511 - val_loss: 11.0134 - val_acc: 0.5938\n",
            "\n",
            "Epoch 00005: val_acc did not improve from 0.59688\n",
            "Epoch 6/50\n",
            " - 127s - loss: 10.9680 - acc: 0.5494 - val_loss: 10.7554 - val_acc: 0.6319\n",
            "\n",
            "Epoch 00006: val_acc improved from 0.59688 to 0.63187, saving model to vgg_face_simple.h5\n",
            "Epoch 7/50\n",
            " - 127s - loss: 10.7408 - acc: 0.5611 - val_loss: 10.5723 - val_acc: 0.6081\n",
            "\n",
            "Epoch 00007: val_acc did not improve from 0.63187\n",
            "Epoch 8/50\n",
            " - 127s - loss: 10.5090 - acc: 0.5811 - val_loss: 10.4292 - val_acc: 0.6181\n",
            "\n",
            "Epoch 00008: val_acc did not improve from 0.63187\n",
            "Epoch 9/50\n",
            " - 127s - loss: 10.2673 - acc: 0.5980 - val_loss: 10.1323 - val_acc: 0.6256\n",
            "\n",
            "Epoch 00009: val_acc did not improve from 0.63187\n",
            "Epoch 10/50\n",
            " - 127s - loss: 10.0418 - acc: 0.5948 - val_loss: 9.8957 - val_acc: 0.6456\n",
            "\n",
            "Epoch 00010: val_acc improved from 0.63187 to 0.64562, saving model to vgg_face_simple.h5\n",
            "Epoch 11/50\n",
            " - 127s - loss: 9.7994 - acc: 0.5961 - val_loss: 9.7139 - val_acc: 0.6612\n",
            "\n",
            "Epoch 00011: val_acc improved from 0.64562 to 0.66125, saving model to vgg_face_simple.h5\n",
            "Epoch 12/50\n",
            " - 127s - loss: 9.5538 - acc: 0.6117 - val_loss: 9.3287 - val_acc: 0.6475\n",
            "\n",
            "Epoch 00012: val_acc did not improve from 0.66125\n",
            "Epoch 13/50\n",
            " - 127s - loss: 9.2974 - acc: 0.6208 - val_loss: 9.1653 - val_acc: 0.6681\n",
            "\n",
            "Epoch 00013: val_acc improved from 0.66125 to 0.66812, saving model to vgg_face_simple.h5\n",
            "Epoch 14/50\n",
            " - 127s - loss: 9.0548 - acc: 0.6223 - val_loss: 8.9156 - val_acc: 0.6612\n",
            "\n",
            "Epoch 00014: val_acc did not improve from 0.66812\n",
            "Epoch 15/50\n",
            " - 127s - loss: 8.7951 - acc: 0.6331 - val_loss: 8.6586 - val_acc: 0.6331\n",
            "\n",
            "Epoch 00015: val_acc did not improve from 0.66812\n",
            "Epoch 16/50\n",
            " - 127s - loss: 8.5469 - acc: 0.6308 - val_loss: 8.4090 - val_acc: 0.6569\n",
            "\n",
            "Epoch 00016: val_acc did not improve from 0.66812\n",
            "Epoch 17/50\n",
            " - 127s - loss: 8.2941 - acc: 0.6423 - val_loss: 8.2450 - val_acc: 0.6644\n",
            "\n",
            "Epoch 00017: val_acc did not improve from 0.66812\n",
            "Epoch 18/50\n",
            " - 127s - loss: 8.0559 - acc: 0.6358 - val_loss: 7.7960 - val_acc: 0.6750\n",
            "\n",
            "Epoch 00018: val_acc improved from 0.66812 to 0.67500, saving model to vgg_face_simple.h5\n",
            "Epoch 19/50\n",
            " - 127s - loss: 7.8058 - acc: 0.6461 - val_loss: 7.6377 - val_acc: 0.6781\n",
            "\n",
            "Epoch 00019: val_acc improved from 0.67500 to 0.67813, saving model to vgg_face_simple.h5\n",
            "Epoch 20/50\n",
            " - 127s - loss: 7.5689 - acc: 0.6514 - val_loss: 7.3280 - val_acc: 0.6544\n",
            "\n",
            "Epoch 00020: val_acc did not improve from 0.67813\n",
            "Epoch 21/50\n",
            " - 127s - loss: 7.3394 - acc: 0.6478 - val_loss: 7.2582 - val_acc: 0.6656\n",
            "\n",
            "Epoch 00021: val_acc did not improve from 0.67813\n",
            "Epoch 22/50\n",
            " - 127s - loss: 7.1046 - acc: 0.6641 - val_loss: 6.9462 - val_acc: 0.6869\n",
            "\n",
            "Epoch 00022: val_acc improved from 0.67813 to 0.68687, saving model to vgg_face_simple.h5\n",
            "Epoch 23/50\n",
            " - 127s - loss: 6.8986 - acc: 0.6520 - val_loss: 6.7319 - val_acc: 0.6769\n",
            "\n",
            "Epoch 00023: val_acc did not improve from 0.68687\n",
            "Epoch 24/50\n",
            " - 127s - loss: 6.6828 - acc: 0.6447 - val_loss: 6.5244 - val_acc: 0.6956\n",
            "\n",
            "Epoch 00024: val_acc improved from 0.68687 to 0.69563, saving model to vgg_face_simple.h5\n",
            "Epoch 25/50\n",
            " - 127s - loss: 6.4600 - acc: 0.6580 - val_loss: 6.3837 - val_acc: 0.6881\n",
            "\n",
            "Epoch 00025: val_acc did not improve from 0.69563\n",
            "Epoch 26/50\n",
            " - 127s - loss: 6.2575 - acc: 0.6630 - val_loss: 6.2372 - val_acc: 0.6900\n",
            "\n",
            "Epoch 00026: val_acc did not improve from 0.69563\n",
            "Epoch 27/50\n",
            " - 127s - loss: 6.0759 - acc: 0.6605 - val_loss: 6.0415 - val_acc: 0.6831\n",
            "\n",
            "Epoch 00027: val_acc did not improve from 0.69563\n",
            "Epoch 28/50\n",
            " - 127s - loss: 5.8706 - acc: 0.6736 - val_loss: 5.7099 - val_acc: 0.6869\n",
            "\n",
            "Epoch 00028: val_acc did not improve from 0.69563\n",
            "Epoch 29/50\n",
            " - 127s - loss: 5.6957 - acc: 0.6681 - val_loss: 5.5982 - val_acc: 0.6862\n",
            "\n",
            "Epoch 00029: val_acc did not improve from 0.69563\n",
            "Epoch 30/50\n",
            " - 127s - loss: 5.5233 - acc: 0.6647 - val_loss: 5.4659 - val_acc: 0.6831\n",
            "\n",
            "Epoch 00030: val_acc did not improve from 0.69563\n",
            "Epoch 31/50\n",
            " - 127s - loss: 5.3459 - acc: 0.6678 - val_loss: 5.3767 - val_acc: 0.6875\n",
            "\n",
            "Epoch 00031: val_acc did not improve from 0.69563\n",
            "Epoch 32/50\n",
            " - 127s - loss: 5.1746 - acc: 0.6816 - val_loss: 5.1628 - val_acc: 0.6906\n",
            "\n",
            "Epoch 00032: val_acc did not improve from 0.69563\n",
            "Epoch 33/50\n",
            " - 127s - loss: 5.0257 - acc: 0.6781 - val_loss: 4.8690 - val_acc: 0.6794\n",
            "\n",
            "Epoch 00033: val_acc did not improve from 0.69563\n",
            "Epoch 34/50\n",
            " - 127s - loss: 4.8750 - acc: 0.6769 - val_loss: 4.8033 - val_acc: 0.6988\n",
            "\n",
            "Epoch 00034: val_acc improved from 0.69563 to 0.69875, saving model to vgg_face_simple.h5\n",
            "Epoch 35/50\n",
            " - 127s - loss: 4.7320 - acc: 0.6725 - val_loss: 4.6945 - val_acc: 0.6969\n",
            "\n",
            "Epoch 00035: val_acc did not improve from 0.69875\n",
            "Epoch 36/50\n",
            " - 127s - loss: 4.5757 - acc: 0.6947 - val_loss: 4.4093 - val_acc: 0.6850\n",
            "\n",
            "Epoch 00036: val_acc did not improve from 0.69875\n",
            "Epoch 37/50\n",
            " - 127s - loss: 4.4524 - acc: 0.6853 - val_loss: 4.3650 - val_acc: 0.7225\n",
            "\n",
            "Epoch 00037: val_acc improved from 0.69875 to 0.72250, saving model to vgg_face_simple.h5\n",
            "Epoch 38/50\n",
            " - 127s - loss: 4.3090 - acc: 0.6922 - val_loss: 4.0098 - val_acc: 0.6894\n",
            "\n",
            "Epoch 00038: val_acc did not improve from 0.72250\n",
            "Epoch 39/50\n",
            " - 127s - loss: 4.1914 - acc: 0.6836 - val_loss: 4.2587 - val_acc: 0.6831\n",
            "\n",
            "Epoch 00039: val_acc did not improve from 0.72250\n",
            "Epoch 40/50\n",
            " - 127s - loss: 4.0549 - acc: 0.7044 - val_loss: 3.9095 - val_acc: 0.7100\n",
            "\n",
            "Epoch 00040: val_acc did not improve from 0.72250\n",
            "Epoch 41/50\n",
            " - 127s - loss: 3.9453 - acc: 0.6950 - val_loss: 3.7883 - val_acc: 0.6837\n",
            "\n",
            "Epoch 00041: val_acc did not improve from 0.72250\n",
            "Epoch 42/50\n",
            " - 127s - loss: 3.8361 - acc: 0.6934 - val_loss: 3.6557 - val_acc: 0.7063\n",
            "\n",
            "Epoch 00042: val_acc did not improve from 0.72250\n",
            "Epoch 43/50\n",
            " - 127s - loss: 3.7269 - acc: 0.6997 - val_loss: 3.5886 - val_acc: 0.6950\n",
            "\n",
            "Epoch 00043: val_acc did not improve from 0.72250\n",
            "Epoch 44/50\n",
            " - 127s - loss: 3.6243 - acc: 0.7095 - val_loss: 3.4860 - val_acc: 0.6988\n",
            "\n",
            "Epoch 00044: val_acc did not improve from 0.72250\n",
            "Epoch 45/50\n",
            " - 127s - loss: 3.5202 - acc: 0.7084 - val_loss: 3.6677 - val_acc: 0.7044\n",
            "\n",
            "Epoch 00045: val_acc did not improve from 0.72250\n",
            "Epoch 46/50\n",
            " - 127s - loss: 3.4309 - acc: 0.7111 - val_loss: 3.2878 - val_acc: 0.7094\n",
            "\n",
            "Epoch 00046: val_acc did not improve from 0.72250\n",
            "Epoch 47/50\n",
            " - 127s - loss: 3.3404 - acc: 0.7055 - val_loss: 3.2958 - val_acc: 0.7150\n",
            "\n",
            "Epoch 00047: val_acc did not improve from 0.72250\n",
            "Epoch 48/50\n",
            " - 127s - loss: 3.2510 - acc: 0.7055 - val_loss: 3.1269 - val_acc: 0.6938\n",
            "\n",
            "Epoch 00048: val_acc did not improve from 0.72250\n",
            "Epoch 49/50\n",
            " - 127s - loss: 3.1607 - acc: 0.7173 - val_loss: 3.0527 - val_acc: 0.7225\n",
            "\n",
            "Epoch 00049: val_acc did not improve from 0.72250\n",
            "Epoch 50/50\n",
            " - 127s - loss: 3.0747 - acc: 0.7194 - val_loss: 3.1676 - val_acc: 0.7169\n",
            "\n",
            "Epoch 00050: val_acc did not improve from 0.72250\n"
          ]
        }
      ]
    },
    {
      "cell_type": "code",
      "metadata": {
        "id": "8e61be47-cf64-4a02-9503-201f263158bb"
      },
      "source": [
        "################################################################\n",
        "\n",
        "# save history\n",
        "with open(f'Documents{path_split}AI{path_split}{pkl_name}', 'wb') as f:\n",
        "    pickle.dump(network, f)\n",
        "\n",
        "model.save(f'Documents{path_split}AI{path_split}{model_name}')\n",
        "################################################################"
      ],
      "id": "8e61be47-cf64-4a02-9503-201f263158bb",
      "execution_count": null,
      "outputs": []
    },
    {
      "cell_type": "code",
      "metadata": {
        "id": "63c064e8-3eb9-4bd0-bf61-c66293ee041e"
      },
      "source": [
        "################################################################\n",
        "\n",
        "# DONE WITH TRAINING\n",
        "\n",
        "################################################################"
      ],
      "id": "63c064e8-3eb9-4bd0-bf61-c66293ee041e",
      "execution_count": null,
      "outputs": []
    },
    {
      "cell_type": "code",
      "metadata": {
        "id": "fa2ef9e6-18d4-4ed6-9365-4793f9cc0745"
      },
      "source": [
        "################################################################\n",
        "\n",
        "# TESTING PHASE\n",
        "\n",
        "################################################################"
      ],
      "id": "fa2ef9e6-18d4-4ed6-9365-4793f9cc0745",
      "execution_count": null,
      "outputs": []
    },
    {
      "cell_type": "code",
      "metadata": {
        "id": "ca5a7835-b284-4a1b-9919-ea788b1d12e8"
      },
      "source": [
        "################################################################\n",
        "file = open(f'Documents{path_split}AI{path_split}{pkl_name}', 'rb')\n",
        "network = pickle.load(file)\n",
        "file.close()\n",
        "\n",
        "model = load_model(f'Documents{path_split}AI{path_split}{model_name}')\n",
        "\n",
        "sampleCSV = pd.read_csv(f'Documents{path_split}AI{path_split}sample_submission.csv', header=0)\n",
        "\n",
        "\n",
        "# generates test data in batches\n",
        "def get_batches_test(test, size=32):\n",
        "    return (test[i:i + size] for i in range(0, len(test), size))\n",
        "\n",
        "\n",
        "################################################################"
      ],
      "id": "ca5a7835-b284-4a1b-9919-ea788b1d12e8",
      "execution_count": null,
      "outputs": []
    },
    {
      "cell_type": "code",
      "metadata": {
        "id": "26f4a303-064b-464d-8008-2efcbad49bed"
      },
      "source": [
        "################################################################\n",
        "results = []\n",
        "test_folder = f'Documents{path_split}AI{path_split}test{path_split}'\n",
        "\n",
        "for eachBatch in tqdm(get_batches_test(sampleCSV.img_pair.values)):\n",
        "    person1 = [row.split(\"-\")[0] for row in eachBatch]\n",
        "    person1 = nump.array([get_img(test_folder + x) for x in person1])\n",
        "\n",
        "    person2 = [x.split(\"-\")[1] for x in eachBatch]\n",
        "    person2 = nump.array([get_img(test_folder + x) for x in person2])\n",
        "\n",
        "    curr_result = model.predict([person1, person2]).ravel().tolist()\n",
        "    results += curr_result\n",
        "\n",
        "sampleCSV['is_related'] = results\n",
        "################################################################"
      ],
      "id": "26f4a303-064b-464d-8008-2efcbad49bed",
      "execution_count": null,
      "outputs": []
    },
    {
      "cell_type": "code",
      "metadata": {
        "id": "d6e4d3a6-3246-4430-906b-f2220b7e2ecd"
      },
      "source": [
        "################################################################\n",
        "# output csv\n",
        "sampleCSV.to_csv(f'Documents{path_split}AI{path_split}results.csv', index=False)\n",
        "################################################################"
      ],
      "id": "d6e4d3a6-3246-4430-906b-f2220b7e2ecd",
      "execution_count": null,
      "outputs": []
    },
    {
      "cell_type": "code",
      "metadata": {
        "id": "e3677412-0767-4b0f-8c0c-94db381b9650"
      },
      "source": [
        "################################################################\n",
        "def plot_acc_graph():\n",
        "    train_accuracy = network.history['acc'][:50]\n",
        "    validation_accuracy = network.history['val_acc'][:50]\n",
        "    acc_epochs = range(len(train_accuracy))\n",
        "    plt.plot(acc_epochs, train_accuracy, 'b', label='Training accuracy')\n",
        "    plt.plot(acc_epochs, validation_accuracy, 'r', label='Validation accuracy')\n",
        "    plt.title('Training and validation accuracy - multi dense')\n",
        "    plt.legend()\n",
        "    plt.figure()\n",
        "\n",
        "\n",
        "################################################################"
      ],
      "id": "e3677412-0767-4b0f-8c0c-94db381b9650",
      "execution_count": null,
      "outputs": []
    },
    {
      "cell_type": "code",
      "metadata": {
        "id": "b585c177-0d5a-41cf-bc5a-680609ef640c"
      },
      "source": [
        "################################################################\n",
        "def plot_loss_graph():\n",
        "    train_loss = network.history['loss'][:50]\n",
        "    validation_loss = network.history['val_loss'][:50]\n",
        "    loss_epochs = range(len(train_loss))\n",
        "    plt.plot(loss_epochs, train_loss, 'b', label='Training loss')\n",
        "    plt.plot(loss_epochs, validation_loss, 'r', label='Validation loss')\n",
        "    plt.title('Training and validation loss - multi dense')\n",
        "    plt.legend()\n",
        "    plt.figure()\n",
        "\n",
        "\n",
        "################################################################"
      ],
      "id": "b585c177-0d5a-41cf-bc5a-680609ef640c",
      "execution_count": null,
      "outputs": []
    },
    {
      "cell_type": "code",
      "metadata": {
        "colab": {
          "base_uri": "https://localhost:8080/",
          "height": 333
        },
        "id": "ede36d7c-cb64-4833-af1d-d2f5f59bb0f7",
        "outputId": "d382ceba-5587-4398-a8e5-f06036f4af97"
      },
      "source": [
        "################################################################\n",
        "\n",
        "# Generating Visualizations\n",
        "plot_acc_graph()\n",
        "\n",
        "################################################################"
      ],
      "id": "ede36d7c-cb64-4833-af1d-d2f5f59bb0f7",
      "execution_count": null,
      "outputs": [
        {
          "data": {
            "text/plain": [
              "[<matplotlib.lines.Line2D at 0x7fd1a416ab10>]"
            ]
          },
          "execution_count": 21,
          "metadata": {},
          "output_type": "execute_result"
        },
        {
          "data": {
            "text/plain": [
              "[<matplotlib.lines.Line2D at 0x7fd1a3e6e250>]"
            ]
          },
          "execution_count": 21,
          "metadata": {},
          "output_type": "execute_result"
        },
        {
          "data": {
            "text/plain": [
              "Text(0.5, 1.0, 'Training and validation accuracy - simple model')"
            ]
          },
          "execution_count": 21,
          "metadata": {},
          "output_type": "execute_result"
        },
        {
          "data": {
            "text/plain": [
              "<matplotlib.legend.Legend at 0x7fd1a3f05610>"
            ]
          },
          "execution_count": 21,
          "metadata": {},
          "output_type": "execute_result"
        },
        {
          "data": {
            "image/png": "[encoded data removed]",
            "text/plain": [
              "<Figure size 432x288 with 1 Axes>"
            ]
          },
          "metadata": {
            "needs_background": "light"
          },
          "output_type": "display_data"
        },
        {
          "data": {
            "text/plain": [
              "<Figure size 432x288 with 0 Axes>"
            ]
          },
          "metadata": {},
          "output_type": "display_data"
        }
      ]
    },
    {
      "cell_type": "code",
      "metadata": {
        "colab": {
          "base_uri": "https://localhost:8080/",
          "height": 333
        },
        "id": "d9bc8799-964b-4bc2-9aef-f40f92091f51",
        "outputId": "285ee729-7fd1-4408-8416-b5e980dcb376"
      },
      "source": [
        "################################################################\n",
        "\n",
        "# Generating Visualizations\n",
        "plot_loss_graph()\n",
        "\n",
        "################################################################"
      ],
      "id": "d9bc8799-964b-4bc2-9aef-f40f92091f51",
      "execution_count": null,
      "outputs": [
        {
          "data": {
            "text/plain": [
              "[<matplotlib.lines.Line2D at 0x7fd1a395fad0>]"
            ]
          },
          "execution_count": 22,
          "metadata": {},
          "output_type": "execute_result"
        },
        {
          "data": {
            "text/plain": [
              "[<matplotlib.lines.Line2D at 0x7fd1a396e1d0>]"
            ]
          },
          "execution_count": 22,
          "metadata": {},
          "output_type": "execute_result"
        },
        {
          "data": {
            "text/plain": [
              "Text(0.5, 1.0, 'Training and validation loss- simple model')"
            ]
          },
          "execution_count": 22,
          "metadata": {},
          "output_type": "execute_result"
        },
        {
          "data": {
            "text/plain": [
              "<matplotlib.legend.Legend at 0x7fd1a3988990>"
            ]
          },
          "execution_count": 22,
          "metadata": {},
          "output_type": "execute_result"
        },
        {
          "data": {
            "image/png": "[encoded data removed]",
            "text/plain": [
              "<Figure size 432x288 with 1 Axes>"
            ]
          },
          "metadata": {
            "needs_background": "light"
          },
          "output_type": "display_data"
        },
        {
          "data": {
            "text/plain": [
              "<Figure size 432x288 with 0 Axes>"
            ]
          },
          "metadata": {},
          "output_type": "display_data"
        }
      ]
    }
  ]
}