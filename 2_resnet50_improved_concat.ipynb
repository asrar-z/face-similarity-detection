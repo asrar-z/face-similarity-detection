{
  "nbformat": 4,
  "nbformat_minor": 5,
  "metadata": {
    "kernelspec": {
      "display_name": "Python 3",
      "language": "python",
      "name": "python3"
    },
    "language_info": {
      "codemirror_mode": {
        "name": "ipython",
        "version": 3
      },
      "file_extension": ".py",
      "mimetype": "text/x-python",
      "name": "python",
      "nbconvert_exporter": "python",
      "pygments_lexer": "ipython3",
      "version": "3.6.13"
    },
    "colab": {
      "name": "2_resnet50_improved_concat.ipynb",
      "provenance": []
    }
  },
  "cells": [
    {
      "cell_type": "code",
      "metadata": {
        "scrolled": true,
        "tags": [],
        "id": "4624da72"
      },
      "source": [
        "################################################################\n",
        "# optional installs\n",
        "\n",
        "#!pip install tensorflow==1.14.0 --ignore-installed\n",
        "#!pip install keras==2.2.4\n",
        "#!pip install opencv-python\n",
        "#!pip install pandas\n",
        "#!pip install tqdm\n",
        "################################################################"
      ],
      "id": "4624da72",
      "execution_count": null,
      "outputs": []
    },
    {
      "cell_type": "code",
      "metadata": {
        "id": "4h29mXIAp2a6"
      },
      "source": [
        "%tensorflow_version 1.x"
      ],
      "id": "4h29mXIAp2a6",
      "execution_count": null,
      "outputs": []
    },
    {
      "cell_type": "code",
      "metadata": {
        "id": "jmMMWW3arJ3I"
      },
      "source": [
        "!pip install git+https://github.com/rcmalli/keras-vggface.git\n",
        "!pip install keras_applications"
      ],
      "id": "jmMMWW3arJ3I",
      "execution_count": null,
      "outputs": []
    },
    {
      "cell_type": "code",
      "metadata": {
        "id": "30c8ec61"
      },
      "source": [
        "################################################################\n",
        "# optional\n",
        "\n",
        "import warnings\n",
        "\n",
        "from IPython.core.interactiveshell import InteractiveShell\n",
        "\n",
        "warnings.filterwarnings('ignore')\n",
        "InteractiveShell.ast_node_interactivity = \"all\"\n",
        "################################################################"
      ],
      "id": "30c8ec61",
      "execution_count": null,
      "outputs": []
    },
    {
      "cell_type": "code",
      "metadata": {
        "id": "d635f304"
      },
      "source": [
        "################################################################\n",
        "# imports\n",
        "import os\n",
        "from os.path import exists\n",
        "\n",
        "\n",
        "import numpy as nump\n",
        "import pandas as pd\n",
        "from collections import defaultdict\n",
        "from glob import glob\n",
        "import h5py\n",
        "from random import choice, sample\n",
        "import cv2\n",
        "from tqdm import tqdm\n",
        "import pickle\n",
        "\n",
        "from keras.callbacks import ModelCheckpoint, ReduceLROnPlateau\n",
        "from keras.layers import Input, Dense, GlobalMaxPool2D, GlobalAvgPool2D, Concatenate, Multiply, Dropout, Subtract, \\\n",
        "    Reshape, Flatten, Lambda\n",
        "from keras.models import Model\n",
        "from keras.optimizers import Adam\n",
        "from keras_vggface.utils import preprocess_input\n",
        "from keras_vggface.vggface import VGGFace\n",
        "from keras import backend as K\n",
        "from keras.models import load_model\n",
        "from keras import regularizers\n",
        "from keras.layers import BatchNormalization\n",
        "\n",
        "import matplotlib.pyplot as plt\n",
        "\n",
        "################################################################"
      ],
      "id": "d635f304",
      "execution_count": null,
      "outputs": []
    },
    {
      "cell_type": "code",
      "metadata": {
        "id": "4afbd7c0",
        "outputId": "843ad49a-2cd7-4743-bf3b-c70d9a4771e0"
      },
      "source": [
        "################################################################\n",
        "# Fetch all images, and split into training and validation images\n",
        "\n",
        "training_dataset = 'Documents/AI/train/'\n",
        "validation_dataset = 'F08'\n",
        "dataset = glob(training_dataset + '*/*/*.jpg')\n",
        "dataset = [img.replace(\"\\\\\", \"/\") for img in dataset]\n",
        "training_images = [img for img in dataset if validation_dataset not in img]\n",
        "validation_images = [img for img in dataset if validation_dataset in img]\n",
        "\n",
        "print(\"Dataset Found\") if exists(training_dataset) else print(\"Dataset Not Found. Please check path\")\n",
        "\n",
        "print(\"Total images\", len(dataset))\n",
        "print(\"Number of training images\", len(training_images))\n",
        "print(\"Number of validation images\", len(validation_images))\n",
        "################################################################"
      ],
      "id": "4afbd7c0",
      "execution_count": null,
      "outputs": [
        {
          "name": "stdout",
          "output_type": "stream",
          "text": [
            "Dataset Found\n",
            "Total images 12379\n",
            "Number of training images 11051\n",
            "Number of validation images 1328\n"
          ]
        }
      ]
    },
    {
      "cell_type": "code",
      "metadata": {
        "id": "a7d5f86c-6906-41a6-8f83-2b189f8c40c6",
        "outputId": "3fd98d5b-5ce6-4c27-f3b2-add2ea3cbb14"
      },
      "source": [
        "################################################################\n",
        "# Extracting people from images\n",
        "training_people = defaultdict(list)\n",
        "for img in training_images:\n",
        "    training_people[img.split('/')[-3] + '/' + img.split('/')[-2]].append(img)\n",
        "\n",
        "validation_people = defaultdict(list)\n",
        "for img in validation_images:\n",
        "    validation_people[img.split('/')[-3] + '/' + img.split('/')[-2]].append(img)\n",
        "\n",
        "print(\"Total people in training dataset\", len(training_people))\n",
        "print(\"Total people in training dataset\", len(validation_people))\n",
        "################################################################"
      ],
      "id": "a7d5f86c-6906-41a6-8f83-2b189f8c40c6",
      "execution_count": null,
      "outputs": [
        {
          "name": "stdout",
          "output_type": "stream",
          "text": [
            "Total people in training dataset 2051\n",
            "Total people in training dataset 265\n"
          ]
        }
      ]
    },
    {
      "cell_type": "code",
      "metadata": {
        "scrolled": true,
        "id": "926375a9",
        "outputId": "a8170ee5-c414-440b-e9ec-b70051066973"
      },
      "source": [
        "################################################################\n",
        "# Reading the csv and forming relationships\n",
        "train_pair = 'Documents/AI/train_relationships.csv'\n",
        "print(\"CSV Found\") if exists(train_pair) else print(\"CSV Not Found Please check path\")\n",
        "csv = pd.read_csv(train_pair)\n",
        "csv = list(zip(csv.p1.values, csv.p2.values))\n",
        "updatedDataset = [img.split('/')[-3] + '/' + img.split('/')[-2] for img in dataset]\n",
        "csv = [row for row in csv if row[0] in updatedDataset and row[1] in updatedDataset]\n",
        "################################################################"
      ],
      "id": "926375a9",
      "execution_count": null,
      "outputs": [
        {
          "name": "stdout",
          "output_type": "stream",
          "text": [
            "CSV Found\n"
          ]
        }
      ]
    },
    {
      "cell_type": "code",
      "metadata": {
        "id": "0d813403",
        "outputId": "8fb7b589-5931-45fb-df4d-de53151eca9e"
      },
      "source": [
        "################################################################\n",
        "training = [row for row in csv if validation_dataset not in row[0]]\n",
        "print(len(training))\n",
        "validation = [row for row in csv if validation_dataset in row[0]]\n",
        "print(len(validation))\n",
        "\n",
        "################################################################"
      ],
      "id": "0d813403",
      "execution_count": null,
      "outputs": [
        {
          "name": "stdout",
          "output_type": "stream",
          "text": [
            "2988\n",
            "374\n"
          ]
        }
      ]
    },
    {
      "cell_type": "code",
      "metadata": {
        "id": "8971dd1a"
      },
      "source": [
        "################################################################\n",
        "# Function to read image\n",
        "def get_img(path):\n",
        "    image = cv2.imread(path)\n",
        "    image = nump.array(image).astype(nump.float)\n",
        "    return preprocess_input(image, version=2)\n",
        "\n",
        "\n",
        "################################################################"
      ],
      "id": "8971dd1a",
      "execution_count": null,
      "outputs": []
    },
    {
      "cell_type": "code",
      "metadata": {
        "id": "d40edef7"
      },
      "source": [
        "################################################################\n",
        "# Generator\n",
        "def gen(tuples, people, batch_size=16):\n",
        "    people_list = list(people.keys())\n",
        "\n",
        "    while True:\n",
        "        batch = sample(tuples, batch_size // 2)\n",
        "        labels = [1] * len(batch)\n",
        "        while len(batch) < batch_size:\n",
        "            person1 = choice(people_list)\n",
        "            person2 = choice(people_list)\n",
        "\n",
        "            if person1 != person2 and (person1, person2) not in tuples and (person2, person1) not in tuples:\n",
        "                batch.append((person1, person2))\n",
        "                labels.append(0)\n",
        "        yield from gen_util(batch, labels, people)\n",
        "\n",
        "\n",
        "################################################################"
      ],
      "id": "d40edef7",
      "execution_count": null,
      "outputs": []
    },
    {
      "cell_type": "code",
      "metadata": {
        "id": "729bd10e"
      },
      "source": [
        "################################################################\n",
        "def gen_util(batch, labels, people):\n",
        "    for x in batch:\n",
        "        if not len(people[x[0]]):\n",
        "            print(x[0])\n",
        "    X1 = [choice(people[x[0]]) for x in batch]\n",
        "    X1 = nump.array([get_img(x) for x in X1])\n",
        "    X2 = [choice(people[x[1]]) for x in batch]\n",
        "    X2 = nump.array([get_img(x) for x in X2])\n",
        "    yield [X1, X2], labels\n",
        "\n",
        "\n",
        "################################################################"
      ],
      "id": "729bd10e",
      "execution_count": null,
      "outputs": []
    },
    {
      "cell_type": "code",
      "metadata": {
        "id": "a0ef8c0b"
      },
      "source": [
        "################################################################\n",
        "\n",
        "# Model architecture\n",
        "def get_model2():\n",
        "    input1 = Input(shape=(224, 224, 3))\n",
        "    input2 = Input(shape=(224, 224, 3))\n",
        "\n",
        "    base_mdl = VGGFace(model='resnet50', include_top=False)\n",
        "\n",
        "    x = layers(base_mdl, input1, input2)\n",
        "    out = Dense(1, activation='sigmoid')(x)\n",
        "    mdl = Model([input1, input2], out)\n",
        "    mdl.compile(loss='binary_crossentropy', metrics=['acc'], optimizer=Adam(0.00001))\n",
        "    mdl.summary()\n",
        "\n",
        "    return mdl\n",
        "\n",
        "\n",
        "################################################################"
      ],
      "id": "a0ef8c0b",
      "execution_count": null,
      "outputs": []
    },
    {
      "cell_type": "code",
      "metadata": {
        "id": "b256809e"
      },
      "source": [
        "################################################################\n",
        "# Layers for the model\n",
        "def layers2(base_mdl, input1, input2):\n",
        "    x1 = base_mdl(input1)\n",
        "    x2 = base_mdl(input2)\n",
        "    x1 = Concatenate(axis=-1)([GlobalMaxPool2D()(x1), GlobalAvgPool2D()(x1)])\n",
        "    x2 = Concatenate(axis=-1)([GlobalMaxPool2D()(x2), GlobalAvgPool2D()(x2)])\n",
        "    x3 = Subtract()([x1, x2])\n",
        "    x3 = Multiply()([x3, x3])\n",
        "    x1_ = Multiply()([x1, x1])\n",
        "    x2_ = Multiply()([x2, x2])\n",
        "    x4 = Subtract()([x1_, x2_])\n",
        "    x5 = Multiply()([x1, x2])\n",
        "    last = Concatenate(axis=-1)([x3, x4, x5])\n",
        "    last = Dense(100, activation='relu')(last)\n",
        "    last = Dropout(0.01)(last)\n",
        "    return last\n",
        "\n",
        "\n",
        "################################################################"
      ],
      "id": "b256809e",
      "execution_count": null,
      "outputs": []
    },
    {
      "cell_type": "code",
      "metadata": {
        "id": "1c8a3263-6abe-4e2c-b767-0a035fe58784"
      },
      "source": [
        "################################################################\n",
        "# Model architecture 2\n",
        "def get_model_3():\n",
        "    input_1 = Input(shape=(224, 224, 3))\n",
        "    input_2 = Input(shape=(224, 224, 3))\n",
        "\n",
        "    base_mdl = VGGFace(model='resnet50', include_top=False)\n",
        "\n",
        "    x = layers2(base_mdl, input_1, input_2)\n",
        "    out = Dense(1, activation=\"sigmoid\")(x)\n",
        "    mdl = Model([input_1, input_2], out)\n",
        "    mdl.compile(loss='binary_crossentropy', metrics=['acc'], optimizer=Adam(0.00001))\n",
        "    mdl.summary()\n",
        "\n",
        "    return mdl\n",
        "\n",
        "\n",
        "################################################################"
      ],
      "id": "1c8a3263-6abe-4e2c-b767-0a035fe58784",
      "execution_count": null,
      "outputs": []
    },
    {
      "cell_type": "code",
      "metadata": {
        "id": "5a5b3826-33a0-4ebf-b58c-22f4a2b916ca"
      },
      "source": [
        "################################################################\n",
        "# Layers for the model 2\n",
        "def layers3(base_mdl, input_1, input_2):\n",
        "    x1 = base_mdl(input_1)\n",
        "    x2 = base_mdl(input_2)\n",
        "    x1 = Concatenate(axis=-1)([GlobalMaxPool2D()(x1), GlobalAvgPool2D()(x1)])\n",
        "    x2 = Concatenate(axis=-1)([GlobalMaxPool2D()(x2), GlobalAvgPool2D()(x2)])\n",
        "    x3 = Subtract()([x1, x2])\n",
        "    x3 = Multiply()([x3, x3])\n",
        "    x1_ = Multiply()([x1, x1])\n",
        "    x2_ = Multiply()([x2, x2])\n",
        "    x4 = Subtract()([x1_, x2_])\n",
        "    x5 = Multiply()([x1, x2])\n",
        "    last = Concatenate(axis=-1)([x3, x4, x5])\n",
        "    last = Dense(256, activation=\"relu\", kernel_regularizer=regularizers.l2(0.01))(last)\n",
        "    last = BatchNormalization()(last)\n",
        "    last = Dense(256, activation=\"relu\", kernel_regularizer=regularizers.l2(0.01))(last)\n",
        "    last = Dropout(0.01)(last)\n",
        "    last = Dense(128, activation=\"relu\", kernel_regularizer=regularizers.l2(0.01))(last)\n",
        "    last = BatchNormalization()(last)\n",
        "    last = Dense(128, activation=\"relu\", kernel_regularizer=regularizers.l2(0.01))(last)\n",
        "    last = Dropout(0.01)(last)\n",
        "    last = Dense(100, activation=\"relu\", kernel_regularizer=regularizers.l2(0.01))(last)\n",
        "    return last\n",
        "\n",
        "\n",
        "################################################################"
      ],
      "id": "5a5b3826-33a0-4ebf-b58c-22f4a2b916ca",
      "execution_count": null,
      "outputs": []
    },
    {
      "cell_type": "code",
      "metadata": {
        "id": "e5dd1142-f494-42a3-bb0c-c4105660c1ae"
      },
      "source": [
        "################################################################\n",
        "def get_model():\n",
        "    input_1 = Input(shape=(224, 224, 3))\n",
        "    input_2 = Input(shape=(224, 224, 3))\n",
        "\n",
        "    base_model = VGGFace(model='resnet50', include_top=False)\n",
        "\n",
        "    for x in base_model.layers:\n",
        "        x.trainable = False\n",
        "\n",
        "    x = layers3(base_model, input_1, input_2)\n",
        "    out = Dense(1, activation='sigmoid')(x)\n",
        "    mdl = Model([input_1, input_2], out)\n",
        "    mdl.compile(loss='binary_crossentropy', metrics=['acc'], optimizer=Adam(0.00001))\n",
        "    mdl.summary()\n",
        "\n",
        "    return mdl\n",
        "\n",
        "\n",
        "################################################################"
      ],
      "id": "e5dd1142-f494-42a3-bb0c-c4105660c1ae",
      "execution_count": null,
      "outputs": []
    },
    {
      "cell_type": "code",
      "metadata": {
        "id": "d56a1a2a-db7a-46e3-ab57-1867e96124f7"
      },
      "source": [
        "################################################################\n",
        "def layers(base_model, input_1, input_2):\n",
        "    x1 = base_model(input_1)\n",
        "    x2 = base_model(input_2)\n",
        "    x = Concatenate()([x1, x2])\n",
        "    x = Flatten()(x)\n",
        "    x = Dense(512, activation=\"relu\", kernel_regularizer=regularizers.l2(0.01))(x)\n",
        "    x = Dropout(0.5)(x)\n",
        "    x = Dense(128, activation=\"relu\", kernel_regularizer=regularizers.l2(0.01))(x)\n",
        "    x = Dropout(0.4)(x)\n",
        "    x = Dense(100, activation='relu')(x)\n",
        "    x = Dropout(0.01)(x)\n",
        "    return x\n",
        "\n",
        "\n",
        "################################################################"
      ],
      "id": "d56a1a2a-db7a-46e3-ab57-1867e96124f7",
      "execution_count": null,
      "outputs": []
    },
    {
      "cell_type": "code",
      "metadata": {
        "id": "3e0d0c82-53fc-453b-b00a-40a1eae5fa54",
        "outputId": "cc9b2e53-c371-4711-e23a-86ae80556f21"
      },
      "source": [
        "################################################################\n",
        "# start\n",
        "path_split = '/'\n",
        "if os.name == 'nt':\n",
        "    path_split = '\\\\'\n",
        "\n",
        "model_name = 'vggface_model.h5'\n",
        "\n",
        "pkl_name = 'network.pkl'\n",
        "\n",
        "save_path = f'Documents{path_split}AI{path_split}{model_name}'\n",
        "\n",
        "best_model = ModelCheckpoint(save_path, monitor='val_acc', verbose=1, save_best_only=True, mode='max')\n",
        "lr_reducer = ReduceLROnPlateau(monitor='val_acc', mode='max', factor=0.1, patience=20, verbose=1)\n",
        "checkpoints = [best_model, lr_reducer]\n",
        "\n",
        "# model = get_model()\n",
        "# network = model.fit_generator(gen(training, training_people, batch_size=16),\n",
        "#                               validation_data=gen(validation, validation_people, batch_size=16),\n",
        "#                               epochs=50, verbose=1, workers=1, callbacks=checkpoints, steps_per_epoch=100,\n",
        "#                               validation_steps=100)\n",
        "model = get_model_2()\n",
        "network = model2.fit_generator(gen(training, training_people, batch_size=16),\n",
        "                                                  validation_data=gen(validation, validation_people, batch_size=16),\n",
        "                                                  epochs=50, verbose=1, workers=1, callbacks=checkpoints,\n",
        "                                                  steps_per_epoch=100,\n",
        "                                                  validation_steps=100)\n",
        "\n",
        "# model = get_model_3()\n",
        "# network = model2.fit_generator(gen(training, training_people, batch_size=16),\n",
        "#                                                   validation_data=gen(validation, validation_people, batch_size=16),\n",
        "#                                                   epochs=100, verbose=1, workers=1, callbacks=checkpoints,\n",
        "#                                                   steps_per_epoch=100,\n",
        "#                                                   validation_steps=100)\n",
        "################################################################"
      ],
      "id": "3e0d0c82-53fc-453b-b00a-40a1eae5fa54",
      "execution_count": null,
      "outputs": [
        {
          "name": "stdout",
          "output_type": "stream",
          "text": [
            "WARNING:tensorflow:From C:\\Users\\Strangevil\\anaconda3\\envs\\py36\\lib\\site-packages\\keras\\backend\\tensorflow_backend.py:74: The name tf.get_default_graph is deprecated. Please use tf.compat.v1.get_default_graph instead.\n",
            "\n",
            "WARNING:tensorflow:From C:\\Users\\Strangevil\\anaconda3\\envs\\py36\\lib\\site-packages\\keras\\backend\\tensorflow_backend.py:517: The name tf.placeholder is deprecated. Please use tf.compat.v1.placeholder instead.\n",
            "\n",
            "WARNING:tensorflow:From C:\\Users\\Strangevil\\anaconda3\\envs\\py36\\lib\\site-packages\\keras\\backend\\tensorflow_backend.py:4138: The name tf.random_uniform is deprecated. Please use tf.random.uniform instead.\n",
            "\n",
            "WARNING:tensorflow:From C:\\Users\\Strangevil\\anaconda3\\envs\\py36\\lib\\site-packages\\keras\\backend\\tensorflow_backend.py:174: The name tf.get_default_session is deprecated. Please use tf.compat.v1.get_default_session instead.\n",
            "\n",
            "WARNING:tensorflow:From C:\\Users\\Strangevil\\anaconda3\\envs\\py36\\lib\\site-packages\\keras\\backend\\tensorflow_backend.py:181: The name tf.ConfigProto is deprecated. Please use tf.compat.v1.ConfigProto instead.\n",
            "\n",
            "WARNING:tensorflow:From C:\\Users\\Strangevil\\anaconda3\\envs\\py36\\lib\\site-packages\\keras\\backend\\tensorflow_backend.py:1834: The name tf.nn.fused_batch_norm is deprecated. Please use tf.compat.v1.nn.fused_batch_norm instead.\n",
            "\n",
            "WARNING:tensorflow:From C:\\Users\\Strangevil\\anaconda3\\envs\\py36\\lib\\site-packages\\keras\\backend\\tensorflow_backend.py:3976: The name tf.nn.max_pool is deprecated. Please use tf.nn.max_pool2d instead.\n",
            "\n",
            "WARNING:tensorflow:From C:\\Users\\Strangevil\\anaconda3\\envs\\py36\\lib\\site-packages\\keras\\backend\\tensorflow_backend.py:3980: The name tf.nn.avg_pool is deprecated. Please use tf.nn.avg_pool2d instead.\n",
            "\n",
            "WARNING:tensorflow:From C:\\Users\\Strangevil\\anaconda3\\envs\\py36\\lib\\site-packages\\keras\\backend\\tensorflow_backend.py:3445: calling dropout (from tensorflow.python.ops.nn_ops) with keep_prob is deprecated and will be removed in a future version.\n",
            "Instructions for updating:\n",
            "Please use `rate` instead of `keep_prob`. Rate should be set to `rate = 1 - keep_prob`.\n",
            "WARNING:tensorflow:From C:\\Users\\Strangevil\\anaconda3\\envs\\py36\\lib\\site-packages\\keras\\optimizers.py:790: The name tf.train.Optimizer is deprecated. Please use tf.compat.v1.train.Optimizer instead.\n",
            "\n",
            "WARNING:tensorflow:From C:\\Users\\Strangevil\\anaconda3\\envs\\py36\\lib\\site-packages\\tensorflow\\python\\ops\\nn_impl.py:180: add_dispatch_support.<locals>.wrapper (from tensorflow.python.ops.array_ops) is deprecated and will be removed in a future version.\n",
            "Instructions for updating:\n",
            "Use tf.where in 2.0, which has the same broadcast rule as np.where\n",
            "__________________________________________________________________________________________________\n",
            "Layer (type)                    Output Shape         Param #     Connected to                     \n",
            "==================================================================================================\n",
            "input_1 (InputLayer)            (None, 224, 224, 3)  0                                            \n",
            "__________________________________________________________________________________________________\n",
            "input_2 (InputLayer)            (None, 224, 224, 3)  0                                            \n",
            "__________________________________________________________________________________________________\n",
            "vggface_resnet50 (Model)        multiple             23561152    input_1[0][0]                    \n",
            "                                                                 input_2[0][0]                    \n",
            "__________________________________________________________________________________________________\n",
            "global_max_pooling2d_1 (GlobalM (None, 2048)         0           vggface_resnet50[1][0]           \n",
            "__________________________________________________________________________________________________\n",
            "global_average_pooling2d_1 (Glo (None, 2048)         0           vggface_resnet50[1][0]           \n",
            "__________________________________________________________________________________________________\n",
            "global_max_pooling2d_2 (GlobalM (None, 2048)         0           vggface_resnet50[2][0]           \n",
            "__________________________________________________________________________________________________\n",
            "global_average_pooling2d_2 (Glo (None, 2048)         0           vggface_resnet50[2][0]           \n",
            "__________________________________________________________________________________________________\n",
            "concatenate_1 (Concatenate)     (None, 4096)         0           global_max_pooling2d_1[0][0]     \n",
            "                                                                 global_average_pooling2d_1[0][0] \n",
            "__________________________________________________________________________________________________\n",
            "concatenate_2 (Concatenate)     (None, 4096)         0           global_max_pooling2d_2[0][0]     \n",
            "                                                                 global_average_pooling2d_2[0][0] \n",
            "__________________________________________________________________________________________________\n",
            "subtract_1 (Subtract)           (None, 4096)         0           concatenate_1[0][0]              \n",
            "                                                                 concatenate_2[0][0]              \n",
            "__________________________________________________________________________________________________\n",
            "multiply_2 (Multiply)           (None, 4096)         0           concatenate_1[0][0]              \n",
            "                                                                 concatenate_1[0][0]              \n",
            "__________________________________________________________________________________________________\n",
            "multiply_3 (Multiply)           (None, 4096)         0           concatenate_2[0][0]              \n",
            "                                                                 concatenate_2[0][0]              \n",
            "__________________________________________________________________________________________________\n",
            "multiply_1 (Multiply)           (None, 4096)         0           subtract_1[0][0]                 \n",
            "                                                                 subtract_1[0][0]                 \n",
            "__________________________________________________________________________________________________\n",
            "subtract_2 (Subtract)           (None, 4096)         0           multiply_2[0][0]                 \n",
            "                                                                 multiply_3[0][0]                 \n",
            "__________________________________________________________________________________________________\n",
            "multiply_4 (Multiply)           (None, 4096)         0           concatenate_1[0][0]              \n",
            "                                                                 concatenate_2[0][0]              \n",
            "__________________________________________________________________________________________________\n",
            "concatenate_3 (Concatenate)     (None, 12288)        0           multiply_1[0][0]                 \n",
            "                                                                 subtract_2[0][0]                 \n",
            "                                                                 multiply_4[0][0]                 \n",
            "__________________________________________________________________________________________________\n",
            "dense_1 (Dense)                 (None, 100)          1228900     concatenate_3[0][0]              \n",
            "__________________________________________________________________________________________________\n",
            "dropout_1 (Dropout)             (None, 100)          0           dense_1[0][0]                    \n",
            "__________________________________________________________________________________________________\n",
            "dense_2 (Dense)                 (None, 1)            101         dropout_1[0][0]                  \n",
            "==================================================================================================\n",
            "Total params: 24,790,153\n",
            "Trainable params: 24,737,033\n",
            "Non-trainable params: 53,120\n",
            "__________________________________________________________________________________________________\n",
            "Epoch 1/50\n",
            "100/100 [==============================] - 109s 1s/step - loss: 4.3982 - acc: 0.5431 - val_loss: 4.4760 - val_acc: 0.5875\n",
            "\n",
            "Epoch 00001: val_acc improved from -inf to 0.58750, saving model to Documents\\AI\\vggface_mode.h5\n",
            "Epoch 2/50\n",
            "100/100 [==============================] - 90s 896ms/step - loss: 3.3932 - acc: 0.6269 - val_loss: 3.9104 - val_acc: 0.6112\n",
            "\n",
            "Epoch 00002: val_acc improved from 0.58750 to 0.61125, saving model to Documents\\AI\\vggface_mode.h5\n",
            "Epoch 3/50\n",
            "100/100 [==============================] - 90s 896ms/step - loss: 2.7397 - acc: 0.6381 - val_loss: 3.6817 - val_acc: 0.5875\n",
            "\n",
            "Epoch 00003: val_acc did not improve from 0.61125\n",
            "Epoch 4/50\n",
            "100/100 [==============================] - 90s 895ms/step - loss: 2.3870 - acc: 0.6556 - val_loss: 2.9732 - val_acc: 0.6381\n",
            "\n",
            "Epoch 00004: val_acc improved from 0.61125 to 0.63813, saving model to Documents\\AI\\vggface_mode.h5\n",
            "Epoch 5/50\n",
            "100/100 [==============================] - 89s 894ms/step - loss: 1.7987 - acc: 0.6650 - val_loss: 2.5300 - val_acc: 0.6350\n",
            "\n",
            "Epoch 00005: val_acc did not improve from 0.63813\n",
            "Epoch 6/50\n",
            "100/100 [==============================] - 91s 910ms/step - loss: 1.3499 - acc: 0.6838 - val_loss: 2.0592 - val_acc: 0.6406\n",
            "\n",
            "Epoch 00006: val_acc improved from 0.63813 to 0.64062, saving model to Documents\\AI\\vggface_mode.h5\n",
            "Epoch 7/50\n",
            "100/100 [==============================] - 91s 909ms/step - loss: 1.1493 - acc: 0.6663 - val_loss: 1.4672 - val_acc: 0.6494\n",
            "\n",
            "Epoch 00007: val_acc improved from 0.64062 to 0.64938, saving model to Documents\\AI\\vggface_mode.h5\n",
            "Epoch 8/50\n",
            "100/100 [==============================] - 91s 910ms/step - loss: 0.8751 - acc: 0.6931 - val_loss: 1.1507 - val_acc: 0.6388\n",
            "\n",
            "Epoch 00008: val_acc did not improve from 0.64938\n",
            "Epoch 9/50\n",
            "100/100 [==============================] - 91s 912ms/step - loss: 0.6906 - acc: 0.7094 - val_loss: 0.9554 - val_acc: 0.6600\n",
            "\n",
            "Epoch 00009: val_acc improved from 0.64938 to 0.66000, saving model to Documents\\AI\\vggface_mode.h5\n",
            "Epoch 10/50\n",
            "100/100 [==============================] - 91s 912ms/step - loss: 0.6442 - acc: 0.7075 - val_loss: 0.8899 - val_acc: 0.6538\n",
            "\n",
            "Epoch 00010: val_acc did not improve from 0.66000\n",
            "Epoch 11/50\n",
            "100/100 [==============================] - 91s 909ms/step - loss: 0.5815 - acc: 0.7156 - val_loss: 0.8804 - val_acc: 0.6800\n",
            "\n",
            "Epoch 00011: val_acc improved from 0.66000 to 0.68000, saving model to Documents\\AI\\vggface_mode.h5\n",
            "Epoch 12/50\n",
            "100/100 [==============================] - 91s 910ms/step - loss: 0.5540 - acc: 0.7375 - val_loss: 0.9189 - val_acc: 0.6787\n",
            "\n",
            "Epoch 00012: val_acc did not improve from 0.68000\n",
            "Epoch 13/50\n",
            "100/100 [==============================] - 92s 922ms/step - loss: 0.5029 - acc: 0.7725 - val_loss: 0.8463 - val_acc: 0.6963\n",
            "\n",
            "Epoch 00013: val_acc improved from 0.68000 to 0.69625, saving model to Documents\\AI\\vggface_mode.h5\n",
            "Epoch 14/50\n",
            "100/100 [==============================] - 92s 920ms/step - loss: 0.4921 - acc: 0.7644 - val_loss: 0.7058 - val_acc: 0.6969\n",
            "\n",
            "Epoch 00014: val_acc improved from 0.69625 to 0.69688, saving model to Documents\\AI\\vggface_mode.h5\n",
            "Epoch 15/50\n",
            "100/100 [==============================] - 92s 921ms/step - loss: 0.4961 - acc: 0.7600 - val_loss: 0.7330 - val_acc: 0.7013\n",
            "\n",
            "Epoch 00015: val_acc improved from 0.69688 to 0.70125, saving model to Documents\\AI\\vggface_mode.h5\n",
            "Epoch 16/50\n",
            "100/100 [==============================] - 92s 916ms/step - loss: 0.4941 - acc: 0.7700 - val_loss: 0.6848 - val_acc: 0.7087\n",
            "\n",
            "Epoch 00016: val_acc improved from 0.70125 to 0.70875, saving model to Documents\\AI\\vggface_mode.h5\n",
            "Epoch 17/50\n",
            "100/100 [==============================] - 91s 912ms/step - loss: 0.4852 - acc: 0.7687 - val_loss: 0.6571 - val_acc: 0.7219\n",
            "\n",
            "Epoch 00017: val_acc improved from 0.70875 to 0.72188, saving model to Documents\\AI\\vggface_mode.h5\n",
            "Epoch 18/50\n",
            "100/100 [==============================] - 91s 912ms/step - loss: 0.4289 - acc: 0.7994 - val_loss: 0.5511 - val_acc: 0.7631\n",
            "\n",
            "Epoch 00018: val_acc improved from 0.72188 to 0.76313, saving model to Documents\\AI\\vggface_mode.h5\n",
            "Epoch 19/50\n",
            "100/100 [==============================] - 91s 905ms/step - loss: 0.4682 - acc: 0.7769 - val_loss: 0.6104 - val_acc: 0.7388\n",
            "\n",
            "Epoch 00019: val_acc did not improve from 0.76313\n",
            "Epoch 20/50\n",
            "100/100 [==============================] - 138s 1s/step - loss: 0.4493 - acc: 0.7744 - val_loss: 0.5628 - val_acc: 0.7531\n",
            "\n",
            "Epoch 00020: val_acc did not improve from 0.76313\n",
            "Epoch 21/50\n",
            "100/100 [==============================] - 171s 2s/step - loss: 0.4296 - acc: 0.8019 - val_loss: 0.6091 - val_acc: 0.7369\n",
            "\n",
            "Epoch 00021: val_acc did not improve from 0.76313\n",
            "Epoch 22/50\n",
            "100/100 [==============================] - 91s 906ms/step - loss: 0.4263 - acc: 0.7956 - val_loss: 0.5742 - val_acc: 0.7669\n",
            "\n",
            "Epoch 00022: val_acc improved from 0.76313 to 0.76687, saving model to Documents\\AI\\vggface_mode.h5\n",
            "Epoch 23/50\n",
            "100/100 [==============================] - 90s 903ms/step - loss: 0.4270 - acc: 0.8056 - val_loss: 0.5614 - val_acc: 0.7669\n",
            "\n",
            "Epoch 00023: val_acc did not improve from 0.76687\n",
            "Epoch 24/50\n",
            "100/100 [==============================] - 90s 898ms/step - loss: 0.4452 - acc: 0.7825 - val_loss: 0.5503 - val_acc: 0.7406\n",
            "\n",
            "Epoch 00024: val_acc did not improve from 0.76687\n",
            "Epoch 25/50\n",
            "100/100 [==============================] - 90s 899ms/step - loss: 0.4402 - acc: 0.7944 - val_loss: 0.5438 - val_acc: 0.7588\n",
            "\n",
            "Epoch 00025: val_acc did not improve from 0.76687\n",
            "Epoch 26/50\n",
            "100/100 [==============================] - 91s 911ms/step - loss: 0.4013 - acc: 0.8069 - val_loss: 0.5321 - val_acc: 0.7756\n",
            "\n",
            "Epoch 00026: val_acc improved from 0.76687 to 0.77563, saving model to Documents\\AI\\vggface_mode.h5\n",
            "Epoch 27/50\n",
            "100/100 [==============================] - 93s 925ms/step - loss: 0.4253 - acc: 0.7969 - val_loss: 0.4950 - val_acc: 0.7769\n",
            "\n",
            "Epoch 00027: val_acc improved from 0.77563 to 0.77687, saving model to Documents\\AI\\vggface_mode.h5\n",
            "Epoch 28/50\n",
            "100/100 [==============================] - 95s 946ms/step - loss: 0.3976 - acc: 0.8206 - val_loss: 0.5312 - val_acc: 0.7756\n",
            "\n",
            "Epoch 00028: val_acc did not improve from 0.77687\n",
            "Epoch 29/50\n",
            "100/100 [==============================] - 92s 919ms/step - loss: 0.4011 - acc: 0.8137 - val_loss: 0.5370 - val_acc: 0.7569\n",
            "\n",
            "Epoch 00029: val_acc did not improve from 0.77687\n",
            "Epoch 30/50\n",
            "100/100 [==============================] - 93s 933ms/step - loss: 0.3994 - acc: 0.8125 - val_loss: 0.5313 - val_acc: 0.7675\n",
            "\n",
            "Epoch 00030: val_acc did not improve from 0.77687\n",
            "Epoch 31/50\n",
            "100/100 [==============================] - 92s 920ms/step - loss: 0.3760 - acc: 0.8200 - val_loss: 0.5548 - val_acc: 0.7569\n",
            "\n",
            "Epoch 00031: val_acc did not improve from 0.77687\n",
            "Epoch 32/50\n",
            "100/100 [==============================] - 91s 908ms/step - loss: 0.4150 - acc: 0.8169 - val_loss: 0.4859 - val_acc: 0.7731\n",
            "\n",
            "Epoch 00032: val_acc did not improve from 0.77687\n",
            "Epoch 33/50\n",
            "100/100 [==============================] - 91s 906ms/step - loss: 0.3609 - acc: 0.8469 - val_loss: 0.5190 - val_acc: 0.7744\n",
            "\n",
            "Epoch 00033: val_acc did not improve from 0.77687\n",
            "Epoch 34/50\n",
            "100/100 [==============================] - 90s 901ms/step - loss: 0.3924 - acc: 0.8144 - val_loss: 0.5265 - val_acc: 0.7725\n",
            "\n",
            "Epoch 00034: val_acc did not improve from 0.77687\n",
            "Epoch 35/50\n",
            "100/100 [==============================] - 90s 899ms/step - loss: 0.3721 - acc: 0.8325 - val_loss: 0.5087 - val_acc: 0.7712\n",
            "\n",
            "Epoch 00035: val_acc did not improve from 0.77687\n",
            "Epoch 36/50\n",
            "100/100 [==============================] - 90s 897ms/step - loss: 0.3478 - acc: 0.8506 - val_loss: 0.4526 - val_acc: 0.8025\n",
            "\n",
            "Epoch 00036: val_acc improved from 0.77687 to 0.80250, saving model to Documents\\AI\\vggface_mode.h5\n",
            "Epoch 37/50\n",
            "100/100 [==============================] - 90s 899ms/step - loss: 0.3730 - acc: 0.8331 - val_loss: 0.5572 - val_acc: 0.7431\n",
            "\n",
            "Epoch 00037: val_acc did not improve from 0.80250\n",
            "Epoch 38/50\n",
            "100/100 [==============================] - 90s 897ms/step - loss: 0.3884 - acc: 0.8238 - val_loss: 0.4653 - val_acc: 0.7744\n",
            "\n",
            "Epoch 00038: val_acc did not improve from 0.80250\n",
            "Epoch 39/50\n",
            "100/100 [==============================] - 90s 898ms/step - loss: 0.3788 - acc: 0.8213 - val_loss: 0.4842 - val_acc: 0.7788\n",
            "\n",
            "Epoch 00039: val_acc did not improve from 0.80250\n",
            "Epoch 40/50\n",
            "100/100 [==============================] - 90s 898ms/step - loss: 0.3662 - acc: 0.8344 - val_loss: 0.4852 - val_acc: 0.7850\n",
            "\n",
            "Epoch 00040: val_acc did not improve from 0.80250\n",
            "Epoch 41/50\n",
            "100/100 [==============================] - 90s 901ms/step - loss: 0.3656 - acc: 0.8356 - val_loss: 0.4511 - val_acc: 0.7981\n",
            "\n",
            "Epoch 00041: val_acc did not improve from 0.80250\n",
            "Epoch 42/50\n",
            "100/100 [==============================] - 90s 904ms/step - loss: 0.3817 - acc: 0.8275 - val_loss: 0.4920 - val_acc: 0.7800\n",
            "\n",
            "Epoch 00042: val_acc did not improve from 0.80250\n",
            "Epoch 43/50\n",
            "100/100 [==============================] - 91s 909ms/step - loss: 0.3363 - acc: 0.8569 - val_loss: 0.5034 - val_acc: 0.7775\n",
            "\n",
            "Epoch 00043: val_acc did not improve from 0.80250\n",
            "Epoch 44/50\n",
            "100/100 [==============================] - 90s 900ms/step - loss: 0.3689 - acc: 0.8431 - val_loss: 0.5267 - val_acc: 0.7638\n",
            "\n",
            "Epoch 00044: val_acc did not improve from 0.80250\n",
            "Epoch 45/50\n",
            "100/100 [==============================] - 90s 900ms/step - loss: 0.3849 - acc: 0.8350 - val_loss: 0.4654 - val_acc: 0.7919\n",
            "\n",
            "Epoch 00045: val_acc did not improve from 0.80250\n",
            "Epoch 46/50\n",
            "100/100 [==============================] - 90s 903ms/step - loss: 0.3332 - acc: 0.8512 - val_loss: 0.4849 - val_acc: 0.7738\n",
            "\n",
            "Epoch 00046: val_acc did not improve from 0.80250\n",
            "Epoch 47/50\n",
            "100/100 [==============================] - 91s 907ms/step - loss: 0.3308 - acc: 0.8588 - val_loss: 0.5261 - val_acc: 0.7662\n",
            "\n",
            "Epoch 00047: val_acc did not improve from 0.80250\n",
            "Epoch 48/50\n",
            "100/100 [==============================] - 90s 903ms/step - loss: 0.3459 - acc: 0.8462 - val_loss: 0.4915 - val_acc: 0.7806\n",
            "\n",
            "Epoch 00048: val_acc did not improve from 0.80250\n",
            "Epoch 49/50\n",
            "100/100 [==============================] - 91s 909ms/step - loss: 0.3279 - acc: 0.8594 - val_loss: 0.4582 - val_acc: 0.7906\n",
            "\n",
            "Epoch 00049: val_acc did not improve from 0.80250\n",
            "Epoch 50/50\n",
            "100/100 [==============================] - 91s 912ms/step - loss: 0.3464 - acc: 0.8512 - val_loss: 0.4787 - val_acc: 0.7831\n",
            "\n",
            "Epoch 00050: val_acc did not improve from 0.80250\n"
          ]
        }
      ]
    },
    {
      "cell_type": "code",
      "metadata": {
        "id": "8e61be47-cf64-4a02-9503-201f263158bb"
      },
      "source": [
        "################################################################\n",
        "\n",
        "# save history\n",
        "with open(f'Documents{path_split}AI{path_split}{pkl_name}', 'wb') as f:\n",
        "    pickle.dump(network, f)\n",
        "\n",
        "model.save(f'Documents{path_split}AI{path_split}{model_name}')\n",
        "################################################################"
      ],
      "id": "8e61be47-cf64-4a02-9503-201f263158bb",
      "execution_count": null,
      "outputs": []
    },
    {
      "cell_type": "code",
      "metadata": {
        "id": "63c064e8-3eb9-4bd0-bf61-c66293ee041e"
      },
      "source": [
        "################################################################\n",
        "\n",
        "# DONE WITH TRAINING\n",
        "\n",
        "################################################################"
      ],
      "id": "63c064e8-3eb9-4bd0-bf61-c66293ee041e",
      "execution_count": null,
      "outputs": []
    },
    {
      "cell_type": "code",
      "metadata": {
        "id": "fa2ef9e6-18d4-4ed6-9365-4793f9cc0745"
      },
      "source": [
        "################################################################\n",
        "\n",
        "# TESTING PHASE\n",
        "\n",
        "################################################################"
      ],
      "id": "fa2ef9e6-18d4-4ed6-9365-4793f9cc0745",
      "execution_count": null,
      "outputs": []
    },
    {
      "cell_type": "code",
      "metadata": {
        "id": "ca5a7835-b284-4a1b-9919-ea788b1d12e8"
      },
      "source": [
        "################################################################\n",
        "file = open(f'Documents{path_split}AI{path_split}{pkl_name}', 'rb')\n",
        "network = pickle.load(file)\n",
        "file.close()\n",
        "\n",
        "model = load_model(f'Documents{path_split}AI{path_split}{model_name}')\n",
        "\n",
        "sampleCSV = pd.read_csv(f'Documents{path_split}AI{path_split}sample_submission.csv', header=0)\n",
        "\n",
        "\n",
        "# generates test data in batches\n",
        "def get_batches_test(test, size=32):\n",
        "    return (test[i:i + size] for i in range(0, len(test), size))\n",
        "\n",
        "\n",
        "################################################################"
      ],
      "id": "ca5a7835-b284-4a1b-9919-ea788b1d12e8",
      "execution_count": null,
      "outputs": []
    },
    {
      "cell_type": "code",
      "metadata": {
        "id": "26f4a303-064b-464d-8008-2efcbad49bed"
      },
      "source": [
        "################################################################\n",
        "results = []\n",
        "test_folder = f'Documents{path_split}AI{path_split}test{path_split}'\n",
        "\n",
        "for eachBatch in tqdm(get_batches_test(sampleCSV.img_pair.values)):\n",
        "    person1 = [row.split(\"-\")[0] for row in eachBatch]\n",
        "    person1 = nump.array([get_img(test_folder + x) for x in person1])\n",
        "\n",
        "    person2 = [x.split(\"-\")[1] for x in eachBatch]\n",
        "    person2 = nump.array([get_img(test_folder + x) for x in person2])\n",
        "\n",
        "    curr_result = model.predict([person1, person2]).ravel().tolist()\n",
        "    results += curr_result\n",
        "\n",
        "sampleCSV['is_related'] = results\n",
        "################################################################"
      ],
      "id": "26f4a303-064b-464d-8008-2efcbad49bed",
      "execution_count": null,
      "outputs": []
    },
    {
      "cell_type": "code",
      "metadata": {
        "id": "d6e4d3a6-3246-4430-906b-f2220b7e2ecd"
      },
      "source": [
        "################################################################\n",
        "# output csv\n",
        "sampleCSV.to_csv(f'Documents{path_split}AI{path_split}results.csv', index=False)\n",
        "################################################################"
      ],
      "id": "d6e4d3a6-3246-4430-906b-f2220b7e2ecd",
      "execution_count": null,
      "outputs": []
    },
    {
      "cell_type": "code",
      "metadata": {
        "id": "e3677412-0767-4b0f-8c0c-94db381b9650"
      },
      "source": [
        "################################################################\n",
        "def plot_acc_graph():\n",
        "    train_accuracy = network.history['acc']\n",
        "    validation_accuracy = network.history['val_acc']\n",
        "    acc_epochs = range(len(train_accuracy))\n",
        "    plt.plot(acc_epochs, train_accuracy, 'b', label='Training accuracy')\n",
        "    plt.plot(acc_epochs, validation_accuracy, 'r', label='Validation accuracy')\n",
        "    plt.title('Training and validation accuracy - imporved concat')\n",
        "    plt.legend()\n",
        "    plt.figure()\n",
        "\n",
        "\n",
        "################################################################"
      ],
      "id": "e3677412-0767-4b0f-8c0c-94db381b9650",
      "execution_count": null,
      "outputs": []
    },
    {
      "cell_type": "code",
      "metadata": {
        "id": "b585c177-0d5a-41cf-bc5a-680609ef640c"
      },
      "source": [
        "################################################################\n",
        "def plot_loss_graph():\n",
        "    train_loss = network.history['loss']\n",
        "    validation_loss = network.history['val_loss']\n",
        "    loss_epochs = range(len(train_loss))\n",
        "    plt.plot(loss_epochs, train_loss, 'b', label='Training loss')\n",
        "    plt.plot(loss_epochs, validation_loss, 'r', label='Validation loss')\n",
        "    plt.title('Training and validation loss - imporved concat')\n",
        "    plt.legend()\n",
        "    plt.figure()\n",
        "\n",
        "\n",
        "################################################################"
      ],
      "id": "b585c177-0d5a-41cf-bc5a-680609ef640c",
      "execution_count": null,
      "outputs": []
    },
    {
      "cell_type": "code",
      "metadata": {
        "id": "9faa0090-c2e1-4798-a7f5-3c278a786564",
        "outputId": "d9bb60ce-a765-48e3-b9ce-ef961ab433a4"
      },
      "source": [
        "################################################################\n",
        "\n",
        "# Generating Visualizations\n",
        "plot_acc_graph()\n",
        "plot_loss_graph()\n",
        "\n",
        "################################################################"
      ],
      "id": "9faa0090-c2e1-4798-a7f5-3c278a786564",
      "execution_count": null,
      "outputs": [
        {
          "data": {
            "image/png": "[encoded data removed]",
            "text/plain": [
              "<Figure size 432x288 with 1 Axes>"
            ]
          },
          "metadata": {
            "needs_background": "light"
          },
          "output_type": "display_data"
        },
        {
          "data": {
            "image/png": "[encoded data removed]",
            "text/plain": [
              "<Figure size 432x288 with 1 Axes>"
            ]
          },
          "metadata": {
            "needs_background": "light"
          },
          "output_type": "display_data"
        },
        {
          "data": {
            "text/plain": [
              "<Figure size 432x288 with 0 Axes>"
            ]
          },
          "metadata": {},
          "output_type": "display_data"
        }
      ]
    }
  ]
}